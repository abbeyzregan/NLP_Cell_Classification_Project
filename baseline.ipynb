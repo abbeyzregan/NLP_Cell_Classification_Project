{
 "cells": [
  {
   "cell_type": "code",
   "execution_count": 1,
   "id": "a601f2ae",
   "metadata": {},
   "outputs": [],
   "source": [
    "#Importing needed libraries\n",
    "import pandas as pd\n",
    "import numpy as np\n",
    "\n",
    "from sklearn import datasets\n",
    "from sklearn.model_selection import train_test_split\n",
    "from sklearn.ensemble import RandomForestClassifier\n",
    "from sklearn.metrics import accuracy_score, confusion_matrix, precision_score, recall_score, ConfusionMatrixDisplay, roc_auc_score, precision_recall_curve, classification_report"
   ]
  },
  {
   "cell_type": "markdown",
   "id": "8628fb54",
   "metadata": {},
   "source": [
    "# Run Algorithm on Both Datasets "
   ]
  },
  {
   "cell_type": "code",
   "execution_count": 2,
   "id": "23b91a3c",
   "metadata": {},
   "outputs": [],
   "source": [
    "# Reading the existing data into dataframes \n",
    "df_dichek = pd.read_csv('all_data_matrix_logNorm.csv', index_col=0,header=0).T\n",
    "df_pedroza = pd.read_csv('pedroza_data_matrix_logNorm.csv',index_col=0,header=0).T\n",
    "\n",
    "df_dichek_metadata = pd.read_csv('all_metadata.csv',index_col=0,header=0)\n",
    "df_pedroza_metadata = pd.read_csv('pedroza_metadata.csv',index_col=0,header=0)"
   ]
  },
  {
   "cell_type": "code",
   "execution_count": 3,
   "id": "a798b791",
   "metadata": {},
   "outputs": [
    {
     "name": "stdout",
     "output_type": "stream",
     "text": [
      "(15431, 20238)\n",
      "(15431, 21)\n"
     ]
    }
   ],
   "source": [
    "#checking shape of the dichek metdata\n",
    "print(df_dichek.shape)\n",
    "print(df_dichek_metadata.shape)"
   ]
  },
  {
   "cell_type": "code",
   "execution_count": 4,
   "id": "00d3f0a0",
   "metadata": {},
   "outputs": [
    {
     "name": "stdout",
     "output_type": "stream",
     "text": [
      "(9745, 16912)\n",
      "(9745, 17)\n"
     ]
    }
   ],
   "source": [
    "#checking shape of the pedroza metadata and data\n",
    "print(df_pedroza.shape)\n",
    "print(df_pedroza_metadata.shape)"
   ]
  },
  {
   "cell_type": "code",
   "execution_count": 5,
   "id": "ece4a69d",
   "metadata": {},
   "outputs": [],
   "source": [
    "#Changing indices so that they match and the two data sets can be joined together \n",
    "df_dichek.index = df_dichek.index.str.replace('.','-')\n",
    "df_pedroza.index = df_pedroza.index.str.replace('.', '-')"
   ]
  },
  {
   "cell_type": "code",
   "execution_count": 7,
   "id": "6cc775a7",
   "metadata": {},
   "outputs": [],
   "source": [
    "intersecting_genes = df_dichek.columns.intersection(df_pedroza.columns)\n",
    "X_dichek = df_dichek[intersecting_genes]\n",
    "X_pedroza = df_pedroza[intersecting_genes]"
   ]
  },
  {
   "cell_type": "code",
   "execution_count": 8,
   "id": "ccaedd3f",
   "metadata": {},
   "outputs": [
    {
     "name": "stdout",
     "output_type": "stream",
     "text": [
      "y_dichek shape:  (15431,)\n",
      "y_pedroza shape:  (9745,)\n",
      "pos_M_wt_AAACCCACATCTCGTC-1    0\n",
      "pos_M_wt_AAACCCAGTGACACGA-1    0\n",
      "pos_M_wt_AAACGAAGTATGAAGT-1    0\n",
      "pos_M_wt_AAACGCTAGAGGTTTA-1    0\n",
      "pos_M_wt_AAACGCTGTGGCTCTG-1    0\n",
      "Name: lineage, dtype: int64\n",
      "MY506pos_AAACCCATCGCCATAA-1    0\n",
      "MY506pos_AAACGAAAGTGGTTGG-1    0\n",
      "MY506pos_AAACGCTAGACAGTCG-1    0\n",
      "MY506pos_AAAGGGCGTCGCAACC-1    0\n",
      "MY506pos_AAAGTCCCAACAGTGG-1    0\n",
      "Name: lineage, dtype: int64\n"
     ]
    }
   ],
   "source": [
    "# Split metadata into the SHF = 0, CNC = 1 \n",
    "y_dichek = (df_dichek_metadata['lineage']=='CNC').astype('int')\n",
    "y_pedroza  = (df_pedroza_metadata['lineage'] == 'CNC').astype('int')\n",
    "print(\"y_dichek shape: \",y_dichek.shape)\n",
    "print(\"y_pedroza shape: \", y_pedroza.shape)\n",
    "print(y_pedroza.head(5))\n",
    "print(y_dichek.head(5))"
   ]
  },
  {
   "cell_type": "code",
   "execution_count": 9,
   "id": "944f0a22",
   "metadata": {},
   "outputs": [],
   "source": [
    "# Combine the data sets \n",
    "X = pd.concat([X_dichek,X_pedroza])\n",
    "y = pd.concat([y_dichek, y_pedroza])"
   ]
  },
  {
   "cell_type": "markdown",
   "id": "fa8d545e",
   "metadata": {},
   "source": [
    "After this, data has been properly partitioned and data will need to be used to create a random forest classifier "
   ]
  },
  {
   "cell_type": "code",
   "execution_count": 13,
   "id": "5784711f",
   "metadata": {},
   "outputs": [],
   "source": [
    "X_train, X_test, y_train, y_test = train_test_split(X, y, test_size=0.2)\n"
   ]
  },
  {
   "cell_type": "code",
   "execution_count": 14,
   "id": "330bde40",
   "metadata": {},
   "outputs": [
    {
     "data": {
      "text/html": [
       "<style>#sk-container-id-1 {color: black;background-color: white;}#sk-container-id-1 pre{padding: 0;}#sk-container-id-1 div.sk-toggleable {background-color: white;}#sk-container-id-1 label.sk-toggleable__label {cursor: pointer;display: block;width: 100%;margin-bottom: 0;padding: 0.3em;box-sizing: border-box;text-align: center;}#sk-container-id-1 label.sk-toggleable__label-arrow:before {content: \"▸\";float: left;margin-right: 0.25em;color: #696969;}#sk-container-id-1 label.sk-toggleable__label-arrow:hover:before {color: black;}#sk-container-id-1 div.sk-estimator:hover label.sk-toggleable__label-arrow:before {color: black;}#sk-container-id-1 div.sk-toggleable__content {max-height: 0;max-width: 0;overflow: hidden;text-align: left;background-color: #f0f8ff;}#sk-container-id-1 div.sk-toggleable__content pre {margin: 0.2em;color: black;border-radius: 0.25em;background-color: #f0f8ff;}#sk-container-id-1 input.sk-toggleable__control:checked~div.sk-toggleable__content {max-height: 200px;max-width: 100%;overflow: auto;}#sk-container-id-1 input.sk-toggleable__control:checked~label.sk-toggleable__label-arrow:before {content: \"▾\";}#sk-container-id-1 div.sk-estimator input.sk-toggleable__control:checked~label.sk-toggleable__label {background-color: #d4ebff;}#sk-container-id-1 div.sk-label input.sk-toggleable__control:checked~label.sk-toggleable__label {background-color: #d4ebff;}#sk-container-id-1 input.sk-hidden--visually {border: 0;clip: rect(1px 1px 1px 1px);clip: rect(1px, 1px, 1px, 1px);height: 1px;margin: -1px;overflow: hidden;padding: 0;position: absolute;width: 1px;}#sk-container-id-1 div.sk-estimator {font-family: monospace;background-color: #f0f8ff;border: 1px dotted black;border-radius: 0.25em;box-sizing: border-box;margin-bottom: 0.5em;}#sk-container-id-1 div.sk-estimator:hover {background-color: #d4ebff;}#sk-container-id-1 div.sk-parallel-item::after {content: \"\";width: 100%;border-bottom: 1px solid gray;flex-grow: 1;}#sk-container-id-1 div.sk-label:hover label.sk-toggleable__label {background-color: #d4ebff;}#sk-container-id-1 div.sk-serial::before {content: \"\";position: absolute;border-left: 1px solid gray;box-sizing: border-box;top: 0;bottom: 0;left: 50%;z-index: 0;}#sk-container-id-1 div.sk-serial {display: flex;flex-direction: column;align-items: center;background-color: white;padding-right: 0.2em;padding-left: 0.2em;position: relative;}#sk-container-id-1 div.sk-item {position: relative;z-index: 1;}#sk-container-id-1 div.sk-parallel {display: flex;align-items: stretch;justify-content: center;background-color: white;position: relative;}#sk-container-id-1 div.sk-item::before, #sk-container-id-1 div.sk-parallel-item::before {content: \"\";position: absolute;border-left: 1px solid gray;box-sizing: border-box;top: 0;bottom: 0;left: 50%;z-index: -1;}#sk-container-id-1 div.sk-parallel-item {display: flex;flex-direction: column;z-index: 1;position: relative;background-color: white;}#sk-container-id-1 div.sk-parallel-item:first-child::after {align-self: flex-end;width: 50%;}#sk-container-id-1 div.sk-parallel-item:last-child::after {align-self: flex-start;width: 50%;}#sk-container-id-1 div.sk-parallel-item:only-child::after {width: 0;}#sk-container-id-1 div.sk-dashed-wrapped {border: 1px dashed gray;margin: 0 0.4em 0.5em 0.4em;box-sizing: border-box;padding-bottom: 0.4em;background-color: white;}#sk-container-id-1 div.sk-label label {font-family: monospace;font-weight: bold;display: inline-block;line-height: 1.2em;}#sk-container-id-1 div.sk-label-container {text-align: center;}#sk-container-id-1 div.sk-container {/* jupyter's `normalize.less` sets `[hidden] { display: none; }` but bootstrap.min.css set `[hidden] { display: none !important; }` so we also need the `!important` here to be able to override the default hidden behavior on the sphinx rendered scikit-learn.org. See: https://github.com/scikit-learn/scikit-learn/issues/21755 */display: inline-block !important;position: relative;}#sk-container-id-1 div.sk-text-repr-fallback {display: none;}</style><div id=\"sk-container-id-1\" class=\"sk-top-container\"><div class=\"sk-text-repr-fallback\"><pre>RandomForestClassifier()</pre><b>In a Jupyter environment, please rerun this cell to show the HTML representation or trust the notebook. <br />On GitHub, the HTML representation is unable to render, please try loading this page with nbviewer.org.</b></div><div class=\"sk-container\" hidden><div class=\"sk-item\"><div class=\"sk-estimator sk-toggleable\"><input class=\"sk-toggleable__control sk-hidden--visually\" id=\"sk-estimator-id-1\" type=\"checkbox\" checked><label for=\"sk-estimator-id-1\" class=\"sk-toggleable__label sk-toggleable__label-arrow\">RandomForestClassifier</label><div class=\"sk-toggleable__content\"><pre>RandomForestClassifier()</pre></div></div></div></div></div>"
      ],
      "text/plain": [
       "RandomForestClassifier()"
      ]
     },
     "execution_count": 14,
     "metadata": {},
     "output_type": "execute_result"
    }
   ],
   "source": [
    "rf = RandomForestClassifier()\n",
    "rf.fit(X_train, y_train)"
   ]
  },
  {
   "cell_type": "code",
   "execution_count": 15,
   "id": "3f20e098",
   "metadata": {},
   "outputs": [],
   "source": [
    "y_pred = rf.predict(X_test)\n",
    "y_prob = rf.predict_proba(X_test)"
   ]
  },
  {
   "cell_type": "code",
   "execution_count": 19,
   "id": "4c28886e",
   "metadata": {},
   "outputs": [
    {
     "name": "stdout",
     "output_type": "stream",
     "text": [
      "Accuracy: 0.903494837172359\n",
      "Precision: 0.8873148744365744\n",
      "Recall: 0.9529737206085753\n",
      "ROC AUC : 0.9705309197012861\n",
      "              precision    recall  f1-score   support\n",
      "\n",
      "           0       0.93      0.84      0.88      2144\n",
      "           1       0.89      0.95      0.92      2892\n",
      "\n",
      "    accuracy                           0.90      5036\n",
      "   macro avg       0.91      0.89      0.90      5036\n",
      "weighted avg       0.91      0.90      0.90      5036\n",
      "\n"
     ]
    }
   ],
   "source": [
    "y_prob_new = np.empty((y_prob.shape[0], ))\n",
    "for j in range(0, y_prob.shape[0]):\n",
    "    y_prob_new[j] = y_prob[j][1]\n",
    "# Accuracy Classification Score \n",
    "accuracy = accuracy_score(y_test, y_pred)\n",
    "precision = precision_score(y_test, y_pred)\n",
    "recall = recall_score(y_test, y_pred)\n",
    "auc_score = roc_auc_score(y_test, y_prob_new)\n",
    "classification = classification_report(y_test, y_pred)\n",
    "\n",
    "print(\"Accuracy:\", accuracy)\n",
    "print(\"Precision:\", precision)\n",
    "print(\"Recall:\", recall)\n",
    "print(\"ROC AUC :\", auc_score)\n",
    "print(classification)"
   ]
  },
  {
   "cell_type": "markdown",
   "id": "4e5f6c11",
   "metadata": {},
   "source": [
    "Now, as part of the baseline comparison, we will look at the different possible test set values to see when certain accuaracies are attained here "
   ]
  },
  {
   "cell_type": "code",
   "execution_count": 11,
   "id": "5226e6eb",
   "metadata": {},
   "outputs": [
    {
     "name": "stdout",
     "output_type": "stream",
     "text": [
      "Test size: 0.25\n",
      "Accuracy: 0.9008579599618685\n",
      "Precision: 0.8816523061327927\n",
      "Recall: 0.9568206820682068\n",
      "ROC AUC : 0.9720823803599321\n",
      "              precision    recall  f1-score   support\n",
      "\n",
      "           0       0.93      0.82      0.88      2658\n",
      "           1       0.88      0.96      0.92      3636\n",
      "\n",
      "    accuracy                           0.90      6294\n",
      "   macro avg       0.91      0.89      0.90      6294\n",
      "weighted avg       0.90      0.90      0.90      6294\n",
      "\n",
      "Test size: 0.3\n",
      "Accuracy: 0.8958029921885343\n",
      "Precision: 0.87636597385901\n",
      "Recall: 0.9511627906976744\n",
      "ROC AUC : 0.9678210095868572\n",
      "              precision    recall  f1-score   support\n",
      "\n",
      "           0       0.93      0.82      0.87      3253\n",
      "           1       0.88      0.95      0.91      4300\n",
      "\n",
      "    accuracy                           0.90      7553\n",
      "   macro avg       0.90      0.89      0.89      7553\n",
      "weighted avg       0.90      0.90      0.89      7553\n",
      "\n",
      "Test size: 0.35\n",
      "Accuracy: 0.8936677258284158\n",
      "Precision: 0.8769092542677448\n",
      "Recall: 0.950896336710834\n",
      "ROC AUC : 0.967589999025721\n",
      "              precision    recall  f1-score   support\n",
      "\n",
      "           0       0.92      0.81      0.86      3680\n",
      "           1       0.88      0.95      0.91      5132\n",
      "\n",
      "    accuracy                           0.89      8812\n",
      "   macro avg       0.90      0.88      0.89      8812\n",
      "weighted avg       0.90      0.89      0.89      8812\n",
      "\n",
      "Test size: 0.4\n",
      "Accuracy: 0.8928606891073378\n",
      "Precision: 0.871991072851905\n",
      "Recall: 0.9519665854507483\n",
      "ROC AUC : 0.9675300435185874\n",
      "              precision    recall  f1-score   support\n",
      "\n",
      "           0       0.93      0.81      0.87      4325\n",
      "           1       0.87      0.95      0.91      5746\n",
      "\n",
      "    accuracy                           0.89     10071\n",
      "   macro avg       0.90      0.88      0.89     10071\n",
      "weighted avg       0.90      0.89      0.89     10071\n",
      "\n",
      "Test size: 0.45\n",
      "Accuracy: 0.8866725507502207\n",
      "Precision: 0.8614432409621606\n",
      "Recall: 0.9534485442939437\n",
      "ROC AUC : 0.9664139416944677\n",
      "              precision    recall  f1-score   support\n",
      "\n",
      "           0       0.93      0.80      0.86      4907\n",
      "           1       0.86      0.95      0.91      6423\n",
      "\n",
      "    accuracy                           0.89     11330\n",
      "   macro avg       0.90      0.88      0.88     11330\n",
      "weighted avg       0.89      0.89      0.89     11330\n",
      "\n",
      "Test size: 0.5\n",
      "Accuracy: 0.8912456307594534\n",
      "Precision: 0.8692552514322088\n",
      "Recall: 0.9523012552301255\n",
      "ROC AUC : 0.9683124540183993\n",
      "              precision    recall  f1-score   support\n",
      "\n",
      "           0       0.93      0.81      0.87      5418\n",
      "           1       0.87      0.95      0.91      7170\n",
      "\n",
      "    accuracy                           0.89     12588\n",
      "   macro avg       0.90      0.88      0.89     12588\n",
      "weighted avg       0.89      0.89      0.89     12588\n",
      "\n",
      "Test size: 0.55\n",
      "Accuracy: 0.8804073084422619\n",
      "Precision: 0.8538269927536232\n",
      "Recall: 0.9538325322539843\n",
      "ROC AUC : 0.9626918578263457\n",
      "              precision    recall  f1-score   support\n",
      "\n",
      "           0       0.93      0.78      0.85      5941\n",
      "           1       0.85      0.95      0.90      7906\n",
      "\n",
      "    accuracy                           0.88     13847\n",
      "   macro avg       0.89      0.87      0.87     13847\n",
      "weighted avg       0.89      0.88      0.88     13847\n",
      "\n",
      "Test size: 0.6000000000000001\n",
      "Accuracy: 0.8785912882298424\n",
      "Precision: 0.8511253355358249\n",
      "Recall: 0.9546086150995832\n",
      "ROC AUC : 0.9615470500897361\n",
      "              precision    recall  f1-score   support\n",
      "\n",
      "           0       0.93      0.78      0.85      6470\n",
      "           1       0.85      0.95      0.90      8636\n",
      "\n",
      "    accuracy                           0.88     15106\n",
      "   macro avg       0.89      0.87      0.87     15106\n",
      "weighted avg       0.88      0.88      0.88     15106\n",
      "\n",
      "Test size: 0.65\n",
      "Accuracy: 0.8777268560953254\n",
      "Precision: 0.8499428353658537\n",
      "Recall: 0.9544238793195677\n",
      "ROC AUC : 0.9600780115067636\n",
      "              precision    recall  f1-score   support\n",
      "\n",
      "           0       0.93      0.78      0.84      7018\n",
      "           1       0.85      0.95      0.90      9347\n",
      "\n",
      "    accuracy                           0.88     16365\n",
      "   macro avg       0.89      0.87      0.87     16365\n",
      "weighted avg       0.88      0.88      0.88     16365\n",
      "\n",
      "Test size: 0.7\n",
      "Accuracy: 0.8777235587834771\n",
      "Precision: 0.8465189873417721\n",
      "Recall: 0.9592588903277219\n",
      "ROC AUC : 0.9649331745940338\n",
      "              precision    recall  f1-score   support\n",
      "\n",
      "           0       0.93      0.77      0.84      7585\n",
      "           1       0.85      0.96      0.90     10039\n",
      "\n",
      "    accuracy                           0.88     17624\n",
      "   macro avg       0.89      0.86      0.87     17624\n",
      "weighted avg       0.88      0.88      0.88     17624\n",
      "\n",
      "Test size: 0.75\n",
      "Accuracy: 0.8850757335028069\n",
      "Precision: 0.8595007049846562\n",
      "Recall: 0.9560845096411108\n",
      "ROC AUC : 0.9625195391726752\n",
      "              precision    recall  f1-score   support\n",
      "\n",
      "           0       0.93      0.79      0.85      8043\n",
      "           1       0.86      0.96      0.91     10839\n",
      "\n",
      "    accuracy                           0.89     18882\n",
      "   macro avg       0.89      0.87      0.88     18882\n",
      "weighted avg       0.89      0.89      0.88     18882\n",
      "\n",
      "Test size: 0.8\n",
      "Accuracy: 0.8689240851993446\n",
      "Precision: 0.8426983636924977\n",
      "Recall: 0.9477430555555556\n",
      "ROC AUC : 0.9544944958370387\n",
      "              precision    recall  f1-score   support\n",
      "\n",
      "           0       0.92      0.76      0.83      8621\n",
      "           1       0.84      0.95      0.89     11520\n",
      "\n",
      "    accuracy                           0.87     20141\n",
      "   macro avg       0.88      0.86      0.86     20141\n",
      "weighted avg       0.87      0.87      0.87     20141\n",
      "\n",
      "Test size: 0.8500000000000001\n",
      "Accuracy: 0.8519626168224299\n",
      "Precision: 0.817343302354832\n",
      "Recall: 0.9547792016978206\n",
      "ROC AUC : 0.9472780328687849\n",
      "              precision    recall  f1-score   support\n",
      "\n",
      "           0       0.92      0.71      0.80      9149\n",
      "           1       0.82      0.95      0.88     12251\n",
      "\n",
      "    accuracy                           0.85     21400\n",
      "   macro avg       0.87      0.83      0.84     21400\n",
      "weighted avg       0.86      0.85      0.85     21400\n",
      "\n",
      "Test size: 0.9\n",
      "Accuracy: 0.8348117745708107\n",
      "Precision: 0.7972606279881121\n",
      "Recall: 0.9532638084202395\n",
      "ROC AUC : 0.9304669674752776\n",
      "              precision    recall  f1-score   support\n",
      "\n",
      "           0       0.92      0.68      0.78      9714\n",
      "           1       0.80      0.95      0.87     12945\n",
      "\n",
      "    accuracy                           0.83     22659\n",
      "   macro avg       0.86      0.82      0.82     22659\n",
      "weighted avg       0.85      0.83      0.83     22659\n",
      "\n"
     ]
    }
   ],
   "source": [
    "X = pd.concat([X_dichek,X_pedroza])\n",
    "y = pd.concat([y_dichek, y_pedroza])\n",
    "\n",
    "for i in range (0, 14):\n",
    "    X_train, X_test, y_train, y_test = train_test_split(X, y, test_size=0.25 + (0.05 * i))\n",
    "    rf = RandomForestClassifier()\n",
    "    rf.fit(X_train, y_train)\n",
    "\n",
    "    y_pred = rf.predict(X_test)\n",
    "    y_prob = rf.predict_proba(X_test)\n",
    "\n",
    "    y_prob_new = np.empty((y_prob.shape[0], ))\n",
    "    for j in range(0, y_prob.shape[0]):\n",
    "        y_prob_new[j] = y_prob[j][1]\n",
    "\n",
    "    # Accuracy Classification Score \n",
    "    accuracy = accuracy_score(y_test, y_pred)\n",
    "    precision = precision_score(y_test, y_pred)\n",
    "    recall = recall_score(y_test, y_pred)\n",
    "    auc_score = roc_auc_score(y_test, y_prob_new)\n",
    "    classification = classification_report(y_test, y_pred)\n",
    "\n",
    "    test_size = 0.25 + (0.05 * i) \n",
    "    print(\"Test size:\", test_size)\n",
    "    print(\"Accuracy:\", accuracy)\n",
    "    print(\"Precision:\", precision)\n",
    "    print(\"Recall:\", recall)\n",
    "    print(\"ROC AUC :\", auc_score)\n",
    "    print(classification)"
   ]
  },
  {
   "cell_type": "code",
   "execution_count": 21,
   "id": "d3aa23e8",
   "metadata": {},
   "outputs": [
    {
     "name": "stdout",
     "output_type": "stream",
     "text": [
      "Test size: 0.91\n",
      "Accuracy: 0.8313473877176902\n",
      "Precision: 0.7942187698968547\n",
      "Recall: 0.9517778116893026\n",
      "ROC AUC : 0.9364410327651994\n",
      "              precision    recall  f1-score   support\n",
      "\n",
      "           0       0.91      0.67      0.77      9805\n",
      "           1       0.79      0.95      0.87     13106\n",
      "\n",
      "    accuracy                           0.83     22911\n",
      "   macro avg       0.85      0.81      0.82     22911\n",
      "weighted avg       0.84      0.83      0.83     22911\n",
      "\n",
      "Test size: 0.92\n",
      "Accuracy: 0.8288144374406355\n",
      "Precision: 0.7926790785736826\n",
      "Recall: 0.9486404833836858\n",
      "ROC AUC : 0.9291917553594777\n",
      "              precision    recall  f1-score   support\n",
      "\n",
      "           0       0.91      0.67      0.77      9922\n",
      "           1       0.79      0.95      0.86     13240\n",
      "\n",
      "    accuracy                           0.83     23162\n",
      "   macro avg       0.85      0.81      0.82     23162\n",
      "weighted avg       0.84      0.83      0.82     23162\n",
      "\n",
      "Test size: 0.93\n",
      "Accuracy: 0.7959340565473648\n",
      "Precision: 0.7492017416545719\n",
      "Recall: 0.9657262590735614\n",
      "ROC AUC : 0.9254845412991514\n",
      "              precision    recall  f1-score   support\n",
      "\n",
      "           0       0.93      0.57      0.71     10051\n",
      "           1       0.75      0.97      0.84     13363\n",
      "\n",
      "    accuracy                           0.80     23414\n",
      "   macro avg       0.84      0.77      0.77     23414\n",
      "weighted avg       0.83      0.80      0.78     23414\n",
      "\n",
      "Test size: 0.9400000000000001\n",
      "Accuracy: 0.841587086960196\n",
      "Precision: 0.8191454770111205\n",
      "Recall: 0.9286346210557358\n",
      "ROC AUC : 0.9273445177969728\n",
      "              precision    recall  f1-score   support\n",
      "\n",
      "           0       0.88      0.72      0.80     10102\n",
      "           1       0.82      0.93      0.87     13564\n",
      "\n",
      "    accuracy                           0.84     23666\n",
      "   macro avg       0.85      0.83      0.83     23666\n",
      "weighted avg       0.85      0.84      0.84     23666\n",
      "\n",
      "Test size: 0.9500000000000001\n",
      "Accuracy: 0.8502801237561669\n",
      "Precision: 0.843179667432743\n",
      "Recall: 0.9081907535493265\n",
      "ROC AUC : 0.9280678151173174\n",
      "              precision    recall  f1-score   support\n",
      "\n",
      "           0       0.86      0.77      0.81     10183\n",
      "           1       0.84      0.91      0.87     13735\n",
      "\n",
      "    accuracy                           0.85     23918\n",
      "   macro avg       0.85      0.84      0.84     23918\n",
      "weighted avg       0.85      0.85      0.85     23918\n",
      "\n",
      "Test size: 0.96\n",
      "Accuracy: 0.7601059208076462\n",
      "Precision: 0.7099044218044324\n",
      "Recall: 0.9801334106728539\n",
      "ROC AUC : 0.9219996440179703\n",
      "              precision    recall  f1-score   support\n",
      "\n",
      "           0       0.95      0.47      0.63     10377\n",
      "           1       0.71      0.98      0.82     13792\n",
      "\n",
      "    accuracy                           0.76     24169\n",
      "   macro avg       0.83      0.72      0.72     24169\n",
      "weighted avg       0.81      0.76      0.74     24169\n",
      "\n",
      "Test size: 0.97\n",
      "Accuracy: 0.752589984030138\n",
      "Precision: 0.7061243620456202\n",
      "Recall: 0.9714142427281846\n",
      "ROC AUC : 0.8901171537988852\n",
      "              precision    recall  f1-score   support\n",
      "\n",
      "           0       0.92      0.46      0.61     10463\n",
      "           1       0.71      0.97      0.82     13958\n",
      "\n",
      "    accuracy                           0.75     24421\n",
      "   macro avg       0.81      0.72      0.72     24421\n",
      "weighted avg       0.80      0.75      0.73     24421\n",
      "\n",
      "Test size: 0.98\n",
      "Accuracy: 0.7417419851659709\n",
      "Precision: 0.6985788312554513\n",
      "Recall: 0.964784241479487\n",
      "ROC AUC : 0.8861833209334183\n",
      "              precision    recall  f1-score   support\n",
      "\n",
      "           0       0.90      0.44      0.60     10560\n",
      "           1       0.70      0.96      0.81     14113\n",
      "\n",
      "    accuracy                           0.74     24673\n",
      "   macro avg       0.80      0.70      0.70     24673\n",
      "weighted avg       0.79      0.74      0.72     24673\n",
      "\n",
      "Test size: 0.99\n",
      "Accuracy: 0.719679037111334\n",
      "Precision: 0.7476711769905487\n",
      "Recall: 0.7704596412556054\n",
      "ROC AUC : 0.7864761773668252\n",
      "              precision    recall  f1-score   support\n",
      "\n",
      "           0       0.68      0.65      0.67     10653\n",
      "           1       0.75      0.77      0.76     14272\n",
      "\n",
      "    accuracy                           0.72     24925\n",
      "   macro avg       0.71      0.71      0.71     24925\n",
      "weighted avg       0.72      0.72      0.72     24925\n",
      "\n"
     ]
    }
   ],
   "source": [
    "X = pd.concat([X_dichek,X_pedroza])\n",
    "y = pd.concat([y_dichek, y_pedroza])\n",
    "\n",
    "for i in range (1, 10):\n",
    "    test_set_size = 0.9 + (0.01 * i)\n",
    "    X_train, X_test, y_train, y_test = train_test_split(X, y, test_size=test_set_size)\n",
    "    rf = RandomForestClassifier()\n",
    "    rf.fit(X_train, y_train)\n",
    "\n",
    "    y_pred = rf.predict(X_test)\n",
    "    y_prob = rf.predict_proba(X_test)\n",
    "\n",
    "    y_prob_new = np.empty((y_prob.shape[0], ))\n",
    "    for j in range(0, y_prob.shape[0]):\n",
    "        y_prob_new[j] = y_prob[j][1]\n",
    "\n",
    "    # Accuracy Classification Score \n",
    "    accuracy = accuracy_score(y_test, y_pred)\n",
    "    precision = precision_score(y_test, y_pred)\n",
    "    recall = recall_score(y_test, y_pred)\n",
    "    auc_score = roc_auc_score(y_test, y_prob_new)\n",
    "    classification = classification_report(y_test, y_pred)\n",
    " \n",
    "    print(\"Test size:\", test_set_size)\n",
    "    print(\"Accuracy:\", accuracy)\n",
    "    print(\"Precision:\", precision)\n",
    "    print(\"Recall:\", recall)\n",
    "    print(\"ROC AUC :\", auc_score)\n",
    "    print(classification)\n",
    "    "
   ]
  },
  {
   "cell_type": "markdown",
   "id": "6e3023d0",
   "metadata": {},
   "source": [
    "# Train on Dichek, test of Pedroza"
   ]
  },
  {
   "cell_type": "code",
   "execution_count": 150,
   "id": "5ded3f5f",
   "metadata": {
    "scrolled": false
   },
   "outputs": [
    {
     "data": {
      "text/html": [
       "<style>#sk-container-id-5 {color: black;background-color: white;}#sk-container-id-5 pre{padding: 0;}#sk-container-id-5 div.sk-toggleable {background-color: white;}#sk-container-id-5 label.sk-toggleable__label {cursor: pointer;display: block;width: 100%;margin-bottom: 0;padding: 0.3em;box-sizing: border-box;text-align: center;}#sk-container-id-5 label.sk-toggleable__label-arrow:before {content: \"▸\";float: left;margin-right: 0.25em;color: #696969;}#sk-container-id-5 label.sk-toggleable__label-arrow:hover:before {color: black;}#sk-container-id-5 div.sk-estimator:hover label.sk-toggleable__label-arrow:before {color: black;}#sk-container-id-5 div.sk-toggleable__content {max-height: 0;max-width: 0;overflow: hidden;text-align: left;background-color: #f0f8ff;}#sk-container-id-5 div.sk-toggleable__content pre {margin: 0.2em;color: black;border-radius: 0.25em;background-color: #f0f8ff;}#sk-container-id-5 input.sk-toggleable__control:checked~div.sk-toggleable__content {max-height: 200px;max-width: 100%;overflow: auto;}#sk-container-id-5 input.sk-toggleable__control:checked~label.sk-toggleable__label-arrow:before {content: \"▾\";}#sk-container-id-5 div.sk-estimator input.sk-toggleable__control:checked~label.sk-toggleable__label {background-color: #d4ebff;}#sk-container-id-5 div.sk-label input.sk-toggleable__control:checked~label.sk-toggleable__label {background-color: #d4ebff;}#sk-container-id-5 input.sk-hidden--visually {border: 0;clip: rect(1px 1px 1px 1px);clip: rect(1px, 1px, 1px, 1px);height: 1px;margin: -1px;overflow: hidden;padding: 0;position: absolute;width: 1px;}#sk-container-id-5 div.sk-estimator {font-family: monospace;background-color: #f0f8ff;border: 1px dotted black;border-radius: 0.25em;box-sizing: border-box;margin-bottom: 0.5em;}#sk-container-id-5 div.sk-estimator:hover {background-color: #d4ebff;}#sk-container-id-5 div.sk-parallel-item::after {content: \"\";width: 100%;border-bottom: 1px solid gray;flex-grow: 1;}#sk-container-id-5 div.sk-label:hover label.sk-toggleable__label {background-color: #d4ebff;}#sk-container-id-5 div.sk-serial::before {content: \"\";position: absolute;border-left: 1px solid gray;box-sizing: border-box;top: 0;bottom: 0;left: 50%;z-index: 0;}#sk-container-id-5 div.sk-serial {display: flex;flex-direction: column;align-items: center;background-color: white;padding-right: 0.2em;padding-left: 0.2em;position: relative;}#sk-container-id-5 div.sk-item {position: relative;z-index: 1;}#sk-container-id-5 div.sk-parallel {display: flex;align-items: stretch;justify-content: center;background-color: white;position: relative;}#sk-container-id-5 div.sk-item::before, #sk-container-id-5 div.sk-parallel-item::before {content: \"\";position: absolute;border-left: 1px solid gray;box-sizing: border-box;top: 0;bottom: 0;left: 50%;z-index: -1;}#sk-container-id-5 div.sk-parallel-item {display: flex;flex-direction: column;z-index: 1;position: relative;background-color: white;}#sk-container-id-5 div.sk-parallel-item:first-child::after {align-self: flex-end;width: 50%;}#sk-container-id-5 div.sk-parallel-item:last-child::after {align-self: flex-start;width: 50%;}#sk-container-id-5 div.sk-parallel-item:only-child::after {width: 0;}#sk-container-id-5 div.sk-dashed-wrapped {border: 1px dashed gray;margin: 0 0.4em 0.5em 0.4em;box-sizing: border-box;padding-bottom: 0.4em;background-color: white;}#sk-container-id-5 div.sk-label label {font-family: monospace;font-weight: bold;display: inline-block;line-height: 1.2em;}#sk-container-id-5 div.sk-label-container {text-align: center;}#sk-container-id-5 div.sk-container {/* jupyter's `normalize.less` sets `[hidden] { display: none; }` but bootstrap.min.css set `[hidden] { display: none !important; }` so we also need the `!important` here to be able to override the default hidden behavior on the sphinx rendered scikit-learn.org. See: https://github.com/scikit-learn/scikit-learn/issues/21755 */display: inline-block !important;position: relative;}#sk-container-id-5 div.sk-text-repr-fallback {display: none;}</style><div id=\"sk-container-id-5\" class=\"sk-top-container\"><div class=\"sk-text-repr-fallback\"><pre>RandomForestClassifier()</pre><b>In a Jupyter environment, please rerun this cell to show the HTML representation or trust the notebook. <br />On GitHub, the HTML representation is unable to render, please try loading this page with nbviewer.org.</b></div><div class=\"sk-container\" hidden><div class=\"sk-item\"><div class=\"sk-estimator sk-toggleable\"><input class=\"sk-toggleable__control sk-hidden--visually\" id=\"sk-estimator-id-5\" type=\"checkbox\" checked><label for=\"sk-estimator-id-5\" class=\"sk-toggleable__label sk-toggleable__label-arrow\">RandomForestClassifier</label><div class=\"sk-toggleable__content\"><pre>RandomForestClassifier()</pre></div></div></div></div></div>"
      ],
      "text/plain": [
       "RandomForestClassifier()"
      ]
     },
     "execution_count": 150,
     "metadata": {},
     "output_type": "execute_result"
    }
   ],
   "source": [
    "rf_dichek_pedroza = RandomForestClassifier()\n",
    "rf_dichek_pedroza.fit(X_dichek, y_dichek)"
   ]
  },
  {
   "cell_type": "code",
   "execution_count": 162,
   "id": "9d086de1",
   "metadata": {},
   "outputs": [],
   "source": [
    "y_pred = rf_dichek_pedroza.predict(X_pedroza)"
   ]
  },
  {
   "cell_type": "code",
   "execution_count": 163,
   "id": "6449cca2",
   "metadata": {},
   "outputs": [
    {
     "name": "stdout",
     "output_type": "stream",
     "text": [
      "Accuracy: 0.5131862493586454\n",
      "Precision: 0.6316397228637414\n",
      "Recall: 0.2103846153846154\n",
      "ROC AUC : 0.5350052889904375\n",
      "              precision    recall  f1-score   support\n",
      "\n",
      "           0       0.49      0.86      0.62      4545\n",
      "           1       0.63      0.21      0.32      5200\n",
      "\n",
      "    accuracy                           0.51      9745\n",
      "   macro avg       0.56      0.54      0.47      9745\n",
      "weighted avg       0.56      0.51      0.46      9745\n",
      "\n"
     ]
    }
   ],
   "source": [
    "accuracy = accuracy_score(y_pedroza, y_pred)\n",
    "precision = precision_score(y_pedroza, y_pred)\n",
    "recall = recall_score(y_pedroza, y_pred)\n",
    "auc_score = roc_auc_score(y_pedroza, y_pred)\n",
    "classification = classification_report(y_pedroza, y_pred)\n",
    "\n",
    "print(\"Accuracy:\", accuracy)\n",
    "print(\"Precision:\", precision)\n",
    "print(\"Recall:\", recall)\n",
    "print(\"ROC AUC :\", auc_score)\n",
    "print(classification)"
   ]
  },
  {
   "cell_type": "markdown",
   "id": "a93b92a3",
   "metadata": {},
   "source": [
    "# Train on Pedroza, test on Dichek "
   ]
  },
  {
   "cell_type": "code",
   "execution_count": 164,
   "id": "f497288f",
   "metadata": {},
   "outputs": [
    {
     "data": {
      "text/html": [
       "<style>#sk-container-id-6 {color: black;background-color: white;}#sk-container-id-6 pre{padding: 0;}#sk-container-id-6 div.sk-toggleable {background-color: white;}#sk-container-id-6 label.sk-toggleable__label {cursor: pointer;display: block;width: 100%;margin-bottom: 0;padding: 0.3em;box-sizing: border-box;text-align: center;}#sk-container-id-6 label.sk-toggleable__label-arrow:before {content: \"▸\";float: left;margin-right: 0.25em;color: #696969;}#sk-container-id-6 label.sk-toggleable__label-arrow:hover:before {color: black;}#sk-container-id-6 div.sk-estimator:hover label.sk-toggleable__label-arrow:before {color: black;}#sk-container-id-6 div.sk-toggleable__content {max-height: 0;max-width: 0;overflow: hidden;text-align: left;background-color: #f0f8ff;}#sk-container-id-6 div.sk-toggleable__content pre {margin: 0.2em;color: black;border-radius: 0.25em;background-color: #f0f8ff;}#sk-container-id-6 input.sk-toggleable__control:checked~div.sk-toggleable__content {max-height: 200px;max-width: 100%;overflow: auto;}#sk-container-id-6 input.sk-toggleable__control:checked~label.sk-toggleable__label-arrow:before {content: \"▾\";}#sk-container-id-6 div.sk-estimator input.sk-toggleable__control:checked~label.sk-toggleable__label {background-color: #d4ebff;}#sk-container-id-6 div.sk-label input.sk-toggleable__control:checked~label.sk-toggleable__label {background-color: #d4ebff;}#sk-container-id-6 input.sk-hidden--visually {border: 0;clip: rect(1px 1px 1px 1px);clip: rect(1px, 1px, 1px, 1px);height: 1px;margin: -1px;overflow: hidden;padding: 0;position: absolute;width: 1px;}#sk-container-id-6 div.sk-estimator {font-family: monospace;background-color: #f0f8ff;border: 1px dotted black;border-radius: 0.25em;box-sizing: border-box;margin-bottom: 0.5em;}#sk-container-id-6 div.sk-estimator:hover {background-color: #d4ebff;}#sk-container-id-6 div.sk-parallel-item::after {content: \"\";width: 100%;border-bottom: 1px solid gray;flex-grow: 1;}#sk-container-id-6 div.sk-label:hover label.sk-toggleable__label {background-color: #d4ebff;}#sk-container-id-6 div.sk-serial::before {content: \"\";position: absolute;border-left: 1px solid gray;box-sizing: border-box;top: 0;bottom: 0;left: 50%;z-index: 0;}#sk-container-id-6 div.sk-serial {display: flex;flex-direction: column;align-items: center;background-color: white;padding-right: 0.2em;padding-left: 0.2em;position: relative;}#sk-container-id-6 div.sk-item {position: relative;z-index: 1;}#sk-container-id-6 div.sk-parallel {display: flex;align-items: stretch;justify-content: center;background-color: white;position: relative;}#sk-container-id-6 div.sk-item::before, #sk-container-id-6 div.sk-parallel-item::before {content: \"\";position: absolute;border-left: 1px solid gray;box-sizing: border-box;top: 0;bottom: 0;left: 50%;z-index: -1;}#sk-container-id-6 div.sk-parallel-item {display: flex;flex-direction: column;z-index: 1;position: relative;background-color: white;}#sk-container-id-6 div.sk-parallel-item:first-child::after {align-self: flex-end;width: 50%;}#sk-container-id-6 div.sk-parallel-item:last-child::after {align-self: flex-start;width: 50%;}#sk-container-id-6 div.sk-parallel-item:only-child::after {width: 0;}#sk-container-id-6 div.sk-dashed-wrapped {border: 1px dashed gray;margin: 0 0.4em 0.5em 0.4em;box-sizing: border-box;padding-bottom: 0.4em;background-color: white;}#sk-container-id-6 div.sk-label label {font-family: monospace;font-weight: bold;display: inline-block;line-height: 1.2em;}#sk-container-id-6 div.sk-label-container {text-align: center;}#sk-container-id-6 div.sk-container {/* jupyter's `normalize.less` sets `[hidden] { display: none; }` but bootstrap.min.css set `[hidden] { display: none !important; }` so we also need the `!important` here to be able to override the default hidden behavior on the sphinx rendered scikit-learn.org. See: https://github.com/scikit-learn/scikit-learn/issues/21755 */display: inline-block !important;position: relative;}#sk-container-id-6 div.sk-text-repr-fallback {display: none;}</style><div id=\"sk-container-id-6\" class=\"sk-top-container\"><div class=\"sk-text-repr-fallback\"><pre>RandomForestClassifier()</pre><b>In a Jupyter environment, please rerun this cell to show the HTML representation or trust the notebook. <br />On GitHub, the HTML representation is unable to render, please try loading this page with nbviewer.org.</b></div><div class=\"sk-container\" hidden><div class=\"sk-item\"><div class=\"sk-estimator sk-toggleable\"><input class=\"sk-toggleable__control sk-hidden--visually\" id=\"sk-estimator-id-6\" type=\"checkbox\" checked><label for=\"sk-estimator-id-6\" class=\"sk-toggleable__label sk-toggleable__label-arrow\">RandomForestClassifier</label><div class=\"sk-toggleable__content\"><pre>RandomForestClassifier()</pre></div></div></div></div></div>"
      ],
      "text/plain": [
       "RandomForestClassifier()"
      ]
     },
     "execution_count": 164,
     "metadata": {},
     "output_type": "execute_result"
    }
   ],
   "source": [
    "rf_pedroza_dichek = RandomForestClassifier()\n",
    "rf_pedroza_dichek.fit(X_pedroza, y_pedroza)"
   ]
  },
  {
   "cell_type": "code",
   "execution_count": 165,
   "id": "df7a6716",
   "metadata": {},
   "outputs": [],
   "source": [
    "y_pred = rf_pedroza_dichek.predict(X_dichek)"
   ]
  },
  {
   "cell_type": "code",
   "execution_count": 167,
   "id": "63cf8427",
   "metadata": {},
   "outputs": [
    {
     "name": "stdout",
     "output_type": "stream",
     "text": [
      "Accuracy: 0.42848810835331475\n",
      "Precision: 0.6527886881382561\n",
      "Recall: 0.09024761077324066\n",
      "ROC AUC : 0.5096103874210088\n",
      "              precision    recall  f1-score   support\n",
      "\n",
      "           0       0.41      0.93      0.57      6223\n",
      "           1       0.65      0.09      0.16      9208\n",
      "\n",
      "    accuracy                           0.43     15431\n",
      "   macro avg       0.53      0.51      0.36     15431\n",
      "weighted avg       0.55      0.43      0.32     15431\n",
      "\n"
     ]
    }
   ],
   "source": [
    "accuracy = accuracy_score(y_dichek, y_pred)\n",
    "precision = precision_score(y_dichek, y_pred)\n",
    "recall = recall_score(y_dichek, y_pred)\n",
    "auc_score = roc_auc_score(y_dichek, y_pred)\n",
    "classification = classification_report(y_dichek, y_pred)\n",
    "\n",
    "print(\"Accuracy:\", accuracy)\n",
    "print(\"Precision:\", precision)\n",
    "print(\"Recall:\", recall)\n",
    "print(\"ROC AUC :\", auc_score)\n",
    "print(classification)"
   ]
  }
 ],
 "metadata": {
  "kernelspec": {
   "display_name": "Python 3 (ipykernel)",
   "language": "python",
   "name": "python3"
  },
  "language_info": {
   "codemirror_mode": {
    "name": "ipython",
    "version": 3
   },
   "file_extension": ".py",
   "mimetype": "text/x-python",
   "name": "python",
   "nbconvert_exporter": "python",
   "pygments_lexer": "ipython3",
   "version": "3.9.12"
  }
 },
 "nbformat": 4,
 "nbformat_minor": 5
}
